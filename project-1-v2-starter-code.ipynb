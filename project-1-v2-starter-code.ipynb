{
 "cells": [
  {
   "cell_type": "markdown",
   "metadata": {},
   "source": [
    "<img src=\"http://imgur.com/1ZcRyrc.png\" style=\"float: left; margin: 15px; height: 80px\">\n",
    "\n",
    "# Project 1\n",
    "\n",
    "### Building \"Pokemon Stay\"\n",
    "\n",
    "---\n",
    "You are an analyst at a \"scrappy\" online gaming company that specializes in remakes of last year's fads.\n",
    "\n",
    "Your boss, who runs the product development team, is convinced that Pokemon Go's fatal flaw was that you had to actually move around outside. She has design mock-ups for a new game called Pokemon Stay: in this version players still need to move, but just from website to website. Pokemon gyms are now popular online destinations, and catching Pokemon in the \"wild\" simply requires browsing the internet for hours in the comfort of your home.\n",
    "\n",
    "She wants you to program a prototype version of the game, and analyze the planned content to help the team calibrate the design."
   ]
  },
  {
   "cell_type": "markdown",
   "metadata": {},
   "source": [
    "#### Package imports\n",
    "\n",
    "The pprint package below is the only package imported here, and it's not even strictly required to do any of the project. Printing python variables and objects with pprint can help to format them in a \"prettier\" way."
   ]
  },
  {
   "cell_type": "code",
   "execution_count": 1,
   "metadata": {},
   "outputs": [],
   "source": [
    "from pprint import pprint\n",
    "from random import *\n",
    "import statistics\n",
    "import math\n",
    "import matplotlib.pyplot as plt"
   ]
  },
  {
   "cell_type": "code",
   "execution_count": 2,
   "metadata": {},
   "outputs": [],
   "source": [
    "# kdfhasjkfhkjdsahfkjshajksfd\n",
    "# aksdfhksadhfkjashdfkjdshakfj\n",
    "# aksjfdhkjsahfdlkjdashflksja"
   ]
  },
  {
   "cell_type": "markdown",
   "metadata": {},
   "source": [
    "ciao\n",
    "ciao"
   ]
  },
  {
   "cell_type": "markdown",
   "metadata": {},
   "source": [
    "ciao  space space  \n",
    "ciao"
   ]
  },
  {
   "cell_type": "code",
   "execution_count": null,
   "metadata": {},
   "outputs": [],
   "source": []
  },
  {
   "cell_type": "markdown",
   "metadata": {},
   "source": [
    "<img src=\"http://imgur.com/l5NasQj.png\" style=\"float: left; margin: 25px 15px 0px 0px; height: 25px\">\n",
    "\n",
    "## 1. Defining a player\n",
    "\n",
    "---\n",
    "\n",
    "The player variables are:\n",
    "\n",
    "    player_id : id code unique to each player (integer)\n",
    "    player_name : entered name of the player (string)\n",
    "    time_played : number of time played the game in minutes (float)\n",
    "    player_pokemon: the player's captured pokemon (dictionary)\n",
    "    gyms_visited: ids of the gyms that a player has visited (list)\n",
    "    \n",
    "Create the components for a player object by defining each of these variables. The dictionary and list variables should just be defined as empty; you can use any (correctly typed) values for the others."
   ]
  },
  {
   "cell_type": "code",
   "execution_count": 3,
   "metadata": {},
   "outputs": [],
   "source": [
    "# define player **variables**\n",
    "player_id = 1\n",
    "player_name = 'Player 1'\n",
    "time_played = 30.8520\n",
    "player_pokemon = {}\n",
    "gyms_visited = []\n",
    "\n",
    "assert isinstance(player_id, int)\n",
    "assert isinstance(player_name, str)\n",
    "assert isinstance(time_played, float)\n",
    "assert isinstance(player_pokemon, dict)\n",
    "assert isinstance(gyms_visited, list)"
   ]
  },
  {
   "cell_type": "markdown",
   "metadata": {},
   "source": [
    "<img src=\"http://imgur.com/l5NasQj.png\" style=\"float: left; margin: 25px 15px 0px 0px; height: 25px\">\n",
    "\n",
    "## 2. Defining \"gym\" locations\n",
    "\n",
    "---\n",
    "\n",
    "As the sole programmer, Pokemon Stay will have to start small. To begin, there will be 10 different gym location websites on the internet. The gym locations are:\n",
    "\n",
    "    1. 'reddit.com'\n",
    "    2. 'amazon.com'\n",
    "    3. 'twitter.com'\n",
    "    4. 'linkedin.com'\n",
    "    5. 'ebay.com'\n",
    "    6. 'netflix.com'\n",
    "    7. 'sporcle.com'\n",
    "    8. 'stackoverflow.com'\n",
    "    9. 'github.com'\n",
    "    10. 'quora.com'\n",
    "\n",
    "1. Set up a list of all the gym locations. This will be a list of strings.\n",
    "2. Append two of these locations to your player's list of visited gyms.\n",
    "3. Print the list."
   ]
  },
  {
   "cell_type": "code",
   "execution_count": 4,
   "metadata": {},
   "outputs": [
    {
     "name": "stdout",
     "output_type": "stream",
     "text": [
      "List of visited gyms: ['reddit.com', 'amazon.com']\n"
     ]
    }
   ],
   "source": [
    "# set up a list of all the gym locations\n",
    "pokemon_gyms = [\n",
    "    'reddit.com', \n",
    "    'amazon.com', \n",
    "    'twitter.com', \n",
    "    'linkedin.com', \n",
    "    'ebay.com', \n",
    "    'netflix.com', \n",
    "    'sporcle.com', \n",
    "    'stackoverflow.com',\n",
    "    'github.com', \n",
    "    'quora.com'\n",
    "]\n",
    "\n",
    "assert len(set(pokemon_gyms)) == 10 # ensure unique list has 10 website locations\n",
    "assert isinstance(pokemon_gyms, list) # ensure it is a list\n",
    "assert isinstance(pokemon_gyms[0], str) # ensure it is a list of strings\n",
    "\n",
    "# append two of these locations to your player's list of visited gyms\n",
    "gyms_visited.append(pokemon_gyms[0])\n",
    "gyms_visited.append(pokemon_gyms[1])\n",
    "\n",
    "assert len(gyms_visited) == 2 # ensure 2 locations were appended\n",
    "\n",
    "print('List of visited gyms:', gyms_visited)"
   ]
  },
  {
   "cell_type": "markdown",
   "metadata": {},
   "source": [
    "<img src=\"http://imgur.com/l5NasQj.png\" style=\"float: left; margin: 25px 15px 0px 0px; height: 25px\">\n",
    "\n",
    "## 3. Create a pokedex\n",
    "\n",
    "---\n",
    "\n",
    "We also need to create some pokemon to catch. Each pokemon will be defined by these variables:\n",
    "\n",
    "    pokemon_id : unique identifier for each pokemon (integer)\n",
    "    name : the name of the pokemon (string)\n",
    "    type : the category of pokemon (string)\n",
    "    hp : base hitpoints (integer)\n",
    "    attack : base attack (integer)\n",
    "    defense : base defense (integer)\n",
    "    special_attack : base special attack (integer)\n",
    "    special_defense : base sepecial defense (integer)\n",
    "    speed : base speed (integer)\n",
    "\n",
    "We are only going to create 3 different pokemon with these `pokemon_id` and `pokemon_name` values:\n",
    "\n",
    "    1 : 'charmander'\n",
    "    2 : 'squirtle'\n",
    "    3 : 'bulbasaur'\n",
    "\n",
    "Create a dictionary that will contain the pokemon. The keys of the dictionary will be the `pokemon_id` and the values will themselves dictionaries that contain the other pokemon variables. The structure of the pokedex dictionary will start like so:\n",
    "     \n",
    "     {\n",
    "         1: {\n",
    "                 'name':'charmander',\n",
    "                 'type':'fire',\n",
    "                 ...\n",
    "                 \n",
    "The `type` of charmander, squirtle, and bulbasaur should be `'fire'`, `'water'`, and `'poison'` respectively. The other values are up to you, make them anything you like!\n",
    "\n",
    "Print (or pretty print) the pokedex dictionary with the 3 pokemon."
   ]
  },
  {
   "cell_type": "code",
   "execution_count": 5,
   "metadata": {},
   "outputs": [
    {
     "name": "stdout",
     "output_type": "stream",
     "text": [
      "{1: {'attack': 172,\n",
      "     'defense': 55,\n",
      "     'hp': 27,\n",
      "     'name': 'charmander',\n",
      "     'special_attack': 1434,\n",
      "     'special_defense': 596,\n",
      "     'speed': 88,\n",
      "     'type': 'fire'},\n",
      " 2: {'attack': 160,\n",
      "     'defense': 50,\n",
      "     'hp': 13,\n",
      "     'name': 'squirtle',\n",
      "     'special_attack': 643,\n",
      "     'special_defense': 556,\n",
      "     'speed': 66,\n",
      "     'type': 'water'},\n",
      " 3: {'attack': 164,\n",
      "     'defense': 63,\n",
      "     'hp': 56,\n",
      "     'name': 'bulbasaur',\n",
      "     'special_attack': 1407,\n",
      "     'special_defense': 756,\n",
      "     'speed': 95,\n",
      "     'type': 'poison'}}\n"
     ]
    }
   ],
   "source": [
    "# values given by question\n",
    "pokemon_names = {\n",
    "    1: 'charmander',\n",
    "    2: 'squirtle',\n",
    "    3: 'bulbasaur',\n",
    "}\n",
    "pokemon_types = {\n",
    "    'charmander': 'fire',\n",
    "    'squirtle': 'water',\n",
    "    'bulbasaur': 'poison',\n",
    "}\n",
    "\n",
    "# ensure count of given values are correct \n",
    "assert len(pokemon_names.keys()) == 3\n",
    "assert len(pokemon_types.keys()) == 3\n",
    "\n",
    "# create a dictionary that will contain the pokemons' stats\n",
    "pokedex = {}\n",
    "\n",
    "for pokemon_id in pokemon_names.keys():\n",
    "    pokedex[pokemon_id] = {\n",
    "        'name': pokemon_names[pokemon_id],\n",
    "        'type': pokemon_types[pokemon_names[pokemon_id]],\n",
    "        'hp': randint(1, 100),\n",
    "        'attack': randint(100,200),\n",
    "        'defense': randint(50, 150),\n",
    "        'special_attack' : randint(500, 1500),\n",
    "        'special_defense' : randint(500, 1500),\n",
    "        'speed' : randint(50, 100),\n",
    "    }\n",
    "\n",
    "# ensure variable types are correct\n",
    "assert isinstance(pokedex[1]['name'], str)\n",
    "assert isinstance(pokedex[1]['type'], str)\n",
    "assert isinstance(pokedex[1]['hp'], int)\n",
    "assert isinstance(pokedex[1]['attack'], int)\n",
    "assert isinstance(pokedex[1]['defense'], int)\n",
    "assert isinstance(pokedex[1]['special_attack'], int)\n",
    "assert isinstance(pokedex[1]['special_defense'], int)\n",
    "assert isinstance(pokedex[1]['speed'], int)\n",
    "\n",
    "pprint(pokedex)"
   ]
  },
  {
   "cell_type": "markdown",
   "metadata": {},
   "source": [
    "<img src=\"http://imgur.com/l5NasQj.png\" style=\"float: left; margin: 25px 15px 0px 0px; height: 25px\">\n",
    "\n",
    "## 4. Create a data structure for players\n",
    "\n",
    "---\n",
    "\n",
    "### 4.1 \n",
    "\n",
    "In order to maintain a database of multiple players, create a dictionary that keeps track of players indexed by `player_id`. \n",
    "\n",
    "The keys of the dictionary will be `player_id` and values will be dictionaries containing each player's variables (from question 1). \n",
    "\n",
    "Construct the `players` dictionary and insert the player that you defined in question 1, then print `players`."
   ]
  },
  {
   "cell_type": "code",
   "execution_count": 6,
   "metadata": {},
   "outputs": [
    {
     "name": "stdout",
     "output_type": "stream",
     "text": [
      "{1: {'gyms_visited': ['reddit.com', 'amazon.com'],\n",
      "     'player_name': 'Player 1',\n",
      "     'player_pokemon': {},\n",
      "     'time_played': 30.852}}\n"
     ]
    }
   ],
   "source": [
    "# construct the players dict \n",
    "players = {}\n",
    "\n",
    "# insert the player that you defined in question 1\n",
    "players[player_id] = {\n",
    "    'player_name': player_name,\n",
    "    'time_played': time_played,\n",
    "    'player_pokemon': player_pokemon,\n",
    "    'gyms_visited': gyms_visited\n",
    "}\n",
    "\n",
    "assert isinstance(players, dict)\n",
    "\n",
    "# check that they are indeed variables defined in q1\n",
    "assert list(players.keys()) == [player_id]\n",
    "assert players[player_id]['player_name'] == player_name\n",
    "assert players[player_id]['time_played'] == time_played\n",
    "assert players[player_id]['player_pokemon'] == player_pokemon\n",
    "assert players[player_id]['gyms_visited'] == gyms_visited\n",
    "\n",
    "pprint(players)"
   ]
  },
  {
   "cell_type": "markdown",
   "metadata": {},
   "source": [
    "---\n",
    "\n",
    "### 4.2\n",
    "\n",
    "Create a new player with `player_id = 2` in the `players` dictionary. Leave the `'player_pokemon'` dictionary empty. Append `'alcatraz'` and `'pacific_beach'` to the `'gyms_visited'` list for player 2.\n",
    "\n",
    "The `'player_name'` and `'time_played'` values are up to you, but must be a string and float, respectively.\n",
    "\n",
    "Remember, the player_id is the key for the player in the players dictionary.\n",
    "\n",
    "Print the `players` dictionary with the new player inserted."
   ]
  },
  {
   "cell_type": "code",
   "execution_count": 7,
   "metadata": {},
   "outputs": [
    {
     "name": "stdout",
     "output_type": "stream",
     "text": [
      "{1: {'gyms_visited': ['reddit.com', 'amazon.com'],\n",
      "     'player_name': 'Player 1',\n",
      "     'player_pokemon': {},\n",
      "     'time_played': 30.852},\n",
      " 2: {'gyms_visited': ['alcatraz', 'pacific_beach'],\n",
      "     'player_name': 'Player 2',\n",
      "     'player_pokemon': {},\n",
      "     'time_played': 30.9498}}\n"
     ]
    }
   ],
   "source": [
    "# create a new player with player_id = 2 in the players dictionary. \n",
    "# leave the 'player_pokemon' dictionary empty\n",
    "player_id = 2\n",
    "players[player_id] = {\n",
    "    'player_name': 'Player 2',\n",
    "    'time_played': 30.9498,\n",
    "    'player_pokemon': {},\n",
    "    'gyms_visited': []\n",
    "}\n",
    "\n",
    "assert 2 in list(players.keys()) \n",
    "assert len(players[player_id]['player_pokemon'])==0\n",
    "\n",
    "# append 'alcatraz' and 'pacific_beach' to the 'gyms_visited' list for player 2.\n",
    "players[player_id]['gyms_visited'].append('alcatraz')\n",
    "players[player_id]['gyms_visited'].append('pacific_beach')\n",
    "\n",
    "assert 'alcatraz' in players[player_id]['gyms_visited']\n",
    "assert 'pacific_beach' in players[player_id]['gyms_visited']\n",
    "\n",
    "assert isinstance(players[player_id]['player_name'], str)\n",
    "assert isinstance(players[player_id]['time_played'], float)\n",
    "\n",
    "# print the players dictionary with the new player inserted\n",
    "pprint(players)"
   ]
  },
  {
   "cell_type": "markdown",
   "metadata": {},
   "source": [
    "<img src=\"http://imgur.com/l5NasQj.png\" style=\"float: left; margin: 25px 15px 0px 0px; height: 25px\">\n",
    "\n",
    "## 5. Add captured pokemon for each player\n",
    "\n",
    "---\n",
    "\n",
    "The `'player_pokemon'` keyed dictionaries for each player keep track of which of the pokemon each player has.\n",
    "\n",
    "The keys of the `'player_pokemon'` dictionaries are the pokemon ids that correspond to the ids in the `pokedex` dictionary you created earlier. The values are integers specifying the stats for the pokemon.\n",
    "\n",
    "Give player 1 a squirtle. Give player 2 charmander and a bulbasaur.\n",
    "\n",
    "Print the players dictionary after adding the pokemon for each player.\n"
   ]
  },
  {
   "cell_type": "code",
   "execution_count": 8,
   "metadata": {},
   "outputs": [
    {
     "name": "stdout",
     "output_type": "stream",
     "text": [
      "{1: {'gyms_visited': ['reddit.com', 'amazon.com'],\n",
      "     'player_name': 'Player 1',\n",
      "     'player_pokemon': {2: {'attack': 160,\n",
      "                            'defense': 50,\n",
      "                            'hp': 13,\n",
      "                            'name': 'squirtle',\n",
      "                            'special_attack': 643,\n",
      "                            'special_defense': 556,\n",
      "                            'speed': 66,\n",
      "                            'type': 'water'}},\n",
      "     'time_played': 30.852},\n",
      " 2: {'gyms_visited': ['alcatraz', 'pacific_beach'],\n",
      "     'player_name': 'Player 2',\n",
      "     'player_pokemon': {1: {'attack': 172,\n",
      "                            'defense': 55,\n",
      "                            'hp': 27,\n",
      "                            'name': 'charmander',\n",
      "                            'special_attack': 1434,\n",
      "                            'special_defense': 596,\n",
      "                            'speed': 88,\n",
      "                            'type': 'fire'},\n",
      "                        3: {'attack': 164,\n",
      "                            'defense': 63,\n",
      "                            'hp': 56,\n",
      "                            'name': 'bulbasaur',\n",
      "                            'special_attack': 1407,\n",
      "                            'special_defense': 756,\n",
      "                            'speed': 95,\n",
      "                            'type': 'poison'}},\n",
      "     'time_played': 30.9498}}\n"
     ]
    }
   ],
   "source": [
    "# give player 1 a squirtle. Give player 2 charmander and a bulbasaur.\n",
    "def give_player_pokemon(players, player_id, *pokemon_ids): \n",
    "    ''' \n",
    "        assigns pokemon(s) to a single player based on player_id \n",
    "        *args will allow more than 1 pokemon to be given to a player\n",
    "    '''\n",
    "    for pokemon_id in pokemon_ids:\n",
    "        players[player_id]['player_pokemon'][pokemon_id] = pokedex[pokemon_id]\n",
    "\n",
    "give_player_pokemon(players, 1, 2)\n",
    "give_player_pokemon(players, 2, 1, 3)\n",
    "\n",
    "assert players[1]['player_pokemon'][2]['name'] == 'squirtle'\n",
    "assert players[2]['player_pokemon'][1]['name'] == 'charmander'\n",
    "assert players[2]['player_pokemon'][3]['name'] == 'bulbasaur'\n",
    "\n",
    "# print the players dictionary after adding the pokemon for each player.\n",
    "pprint(players)"
   ]
  },
  {
   "cell_type": "markdown",
   "metadata": {},
   "source": [
    "**QUESTION**\n",
    ": \"The values are integers specifying the stats for the pokemon.\" => only the integers? how about the name and type of pokemon? array or dict form?"
   ]
  },
  {
   "cell_type": "markdown",
   "metadata": {},
   "source": [
    "\n",
    "\n",
    "## 6. What gyms have players visited?\n",
    "\n",
    "---\n",
    "<img src=\"http://imgur.com/l5NasQj.png\" style=\"float: left; margin: 25px 15px 0px 0px; height: 25px\">\n",
    "### 6.1\n",
    "\n",
    "Write a for-loop that:\n",
    "\n",
    "1. Iterates through the `pokemon_gyms` list of gym locations you defined before.\n",
    "2. For each gym, iterate through each player in the `players` dictionary with a second, internal for-loop.\n",
    "3. If the player has visited the gym, print out \"[player] has visited [gym location].\", filling in [player] and [gym location] with the current player's name and current gym location."
   ]
  },
  {
   "cell_type": "code",
   "execution_count": 9,
   "metadata": {},
   "outputs": [
    {
     "name": "stdout",
     "output_type": "stream",
     "text": [
      "Player 1 has visted reddit.com\n",
      "Player 1 has visted amazon.com\n"
     ]
    }
   ],
   "source": [
    "count = 0\n",
    "for pokemon_gym in pokemon_gyms: \n",
    "    for player_id in players:\n",
    "        count += 1\n",
    "        if pokemon_gym in players[player_id]['gyms_visited']:\n",
    "            print('{player} has visted {gym_location}'.format(\n",
    "                player=players[player_id]['player_name'],\n",
    "                gym_location=pokemon_gym\n",
    "            ))"
   ]
  },
  {
   "cell_type": "markdown",
   "metadata": {},
   "source": [
    "<img src=\"http://imgur.com/xDpSobf.png\" style=\"float: left; margin: 25px 15px 0px 0px; height: 25px\">\n",
    "### 6.2\n",
    "\n",
    "How many times did that loop run? If you have N gyms and also N players, how many times would it run as a function of N?\n",
    "\n",
    "Can you think of a more efficient way to accomplish the same thing? \n",
    "\n",
    "(You can write your answer as Markdown text.)"
   ]
  },
  {
   "cell_type": "code",
   "execution_count": 10,
   "metadata": {},
   "outputs": [
    {
     "name": "stdout",
     "output_type": "stream",
     "text": [
      "The loop has ran 20 times\n"
     ]
    }
   ],
   "source": [
    "print('The loop has ran {loop_count} times'.format(loop_count=count))"
   ]
  },
  {
   "cell_type": "markdown",
   "metadata": {},
   "source": [
    ">If I had N gyms and N players, it would run <b>N<sup>2</sup> times</b>. A more efficient way would be to code it this way:"
   ]
  },
  {
   "cell_type": "code",
   "execution_count": 64,
   "metadata": {},
   "outputs": [
    {
     "name": "stdout",
     "output_type": "stream",
     "text": [
      "Player 1 has visited amazon.com and reddit.com\n",
      "the loop has ran 2 times\n"
     ]
    }
   ],
   "source": [
    "count = 0\n",
    "for i in players:\n",
    "    # find the intersection of gyms the players visited & defined pokemon_gyms\n",
    "    matched_result = list(set(players[i]['gyms_visited']) & set(pokemon_gyms))\n",
    "    if len(matched_result) != 0:\n",
    "        print('{player_name} has visited {gyms} {and_last_gym}'.format(\n",
    "            player_name = players[i]['player_name'], \n",
    "            gyms = matched_result[0] if len(matched_result) == 1 else ', '.join(matched_result[0:-1]),\n",
    "            and_last_gym = '' if len(matched_result) == 1 else 'and {gym}'.format(gym=matched_result[-1])\n",
    "        ))\n",
    "    count+=1\n",
    "\n",
    "print('the loop has ran {loop_count} times'.format(loop_count=count))"
   ]
  },
  {
   "cell_type": "markdown",
   "metadata": {},
   "source": [
    ">This time, it would run <b>N times</b> to answer the same question of 'What gyms have players visited?'"
   ]
  },
  {
   "cell_type": "markdown",
   "metadata": {},
   "source": [
    "<img src=\"http://imgur.com/l5NasQj.png\" style=\"float: left; margin: 25px 15px 0px 0px; height: 25px\">\n",
    "\n",
    "## 7. Calculate player \"power\".\n",
    "\n",
    "---\n",
    "\n",
    "Define a function that will calculate a player's \"power\". Player power is defined as the sum of the base statistics all of their pokemon.\n",
    "\n",
    "Your function will:\n",
    "\n",
    "1. Accept the `players` dictionary, `pokedex` dictionary, and a player_id as arguments.\n",
    "2. For the specified player_id, look up that player's pokemon and their level(s).\n",
    "3. Find and aggregate the attack and defense values for each of the player's pokemon from the `pokedex` dictionary.\n",
    "4. Print \"[player name]'s power is [player power].\", where the player power is the sum of the base statistics for all of their pokemon.\n",
    "5. Return the player's power value.\n",
    "\n",
    "Print out the pokemon power for each of your players."
   ]
  },
  {
   "cell_type": "code",
   "execution_count": 12,
   "metadata": {},
   "outputs": [
    {
     "name": "stdout",
     "output_type": "stream",
     "text": [
      "Player 1's power is 289\n",
      "Player 2's power is 720\n",
      "289\n",
      "720\n"
     ]
    }
   ],
   "source": [
    "# accept the players dictionary, pokedex dictionary, and a player_id as arguments.\n",
    "def calculate_player_power(players, pokedex, player_id):\n",
    "    ''' Player power is defined as the sum of the base statistics all of their pokemon. '''\n",
    "\n",
    "    assert isinstance(players, dict)\n",
    "    assert isinstance(pokedex, dict)\n",
    "\n",
    "    # for the specified player_id, look up that player's pokemon and their level(s).\n",
    "    player_pokemons = players[player_id]['player_pokemon']\n",
    "    \n",
    "    player_power = 0\n",
    "    for pokemon_id in player_pokemons:\n",
    "        # find and aggregate the attack and defense values for each of the player's pokemon from the pokedex dictionary.\n",
    "        attack_defense = player_pokemons[pokemon_id]['attack'] + player_pokemons[pokemon_id]['defense'] \n",
    "        \n",
    "        # pokemon power should be affected by its attack, defense, special_attack, special_defense, hp and speed!\n",
    "        pokemon_power = attack_defense + player_pokemons[pokemon_id]['speed'] + player_pokemons[pokemon_id]['hp']\n",
    "        + player_pokemons[pokemon_id]['special_attack'] + player_pokemons[pokemon_id]['special_defense'] \n",
    "        \n",
    "        # add pokemon's power to its player's power\n",
    "        player_power += pokemon_power\n",
    "\n",
    "    # print out the pokemon power for each of your players.\n",
    "    print(\"{player_name}'s power is {player_power}\".format(\n",
    "        player_name=players[player_id]['player_name'],\n",
    "        player_power=player_power\n",
    "    ))\n",
    "    \n",
    "    return player_power\n",
    "\n",
    "\n",
    "for player_id in players.keys():\n",
    "    player_power = calculate_player_power(players, pokedex, player_id)\n",
    "    \n",
    "    # save player_power to player dictionary\n",
    "    players[player_id]['player_power'] = player_power\n",
    "    \n",
    "# print out the pokemon power for each of your players.\n",
    "for player_id in players:\n",
    "    print(players[player_id]['player_power'])"
   ]
  },
  {
   "cell_type": "markdown",
   "metadata": {
    "collapsed": true
   },
   "source": [
    "<img src=\"http://imgur.com/l5NasQj.png\" style=\"float: left; margin: 25px 15px 0px 0px; height: 25px\">\n",
    "\n",
    "## 8. Load a pokedex file containing all the pokemon\n",
    "\n",
    "---\n",
    "\n",
    "### 8.1\n",
    "\n",
    "While you were putting together the prototype code, your colleagues were preparing a dataset of Pokemon and their attributes. (This was a rush job, so they may have picked some crazy values for some...)\n",
    "\n",
    "The code below loads information from a comma separated value (csv) file. You need to parse this string into a more useable format. The format of the string is:\n",
    "\n",
    "- Rows are separated by newline characters: \\n\n",
    "- Columns are separated by commas: ,\n",
    "- All cells in the csv are double quoted. Ex: \"PokedexNumber\" is the first cell of the first row.\n",
    "\n",
    "\n",
    "Using for-loops, create a list of lists where each list within the overall list is a row of the csv/matrix, and each element in that list is a cell in that row. Additional criteria:\n",
    "\n",
    "1. Quotes are removed from each cell item.\n",
    "2. Numeric column values are converted to floats.\n",
    "3. There are some cells that are empty and have no information. For these cells put a -1 value in place.\n",
    "\n",
    "Your end result is effectively a matrix. Each list in the outer list is a row, and the *j*th elements of list together form the *j*th column, which represents a data attribute. The first three lists in your pokedex list should look like this:\n",
    "\n",
    "    ['PokedexNumber', 'Name', 'Type', 'Total', 'HP', 'Attack', 'Defense', 'SpecialAttack', 'SpecialDefense', 'Speed']\n",
    "    [1.0, 'Bulbasaur', 'GrassPoison', 318.0, 45.0, 49.0, 49.0, 65.0, 65.0, 45.0]\n",
    "    [2.0, 'Ivysaur', 'GrassPoison', 405.0, 60.0, 62.0, 63.0, 80.0, 80.0, 60.0]"
   ]
  },
  {
   "cell_type": "code",
   "execution_count": 13,
   "metadata": {},
   "outputs": [],
   "source": [
    "# Code to read in pokedex info\n",
    "raw_pd = ''\n",
    "pokedex_file = 'pokedex_basic.csv'\n",
    "with open(pokedex_file, 'r') as f:\n",
    "    raw_pd = f.read()\n",
    "    \n",
    "# the pokedex string is assigned to the raw_pd variable"
   ]
  },
  {
   "cell_type": "code",
   "execution_count": 14,
   "metadata": {},
   "outputs": [],
   "source": [
    "def clean_cell(cell):\n",
    "    ''' cleans cell such as \n",
    "    1. removing quotes from strings, \n",
    "    2. convert numeric values to float \n",
    "    3. replace empty cells with -1 \n",
    "    \n",
    "    note to self: should do step 3 after step 2, \n",
    "    else empty cells will be become -1.00\n",
    "    '''\n",
    "\n",
    "    # step 1\n",
    "    cell = cell.replace('\"','') \n",
    "        \n",
    "    # step 2 \n",
    "    # use try except because string cells can not \n",
    "    # and should not be converted to float\n",
    "    try:\n",
    "        cell = float(cell) \n",
    "    except:\n",
    "        pass\n",
    "\n",
    "    # step 3\n",
    "    if type(cell) != float: # unable to find len of float type variable\n",
    "        if len(cell) == 0: \n",
    "            cell = -1 \n",
    "\n",
    "    return cell\n",
    "\n",
    "# clean & format data\n",
    "temp = raw_pd.splitlines()\n",
    "data_clean = []\n",
    "for line in temp:\n",
    "    line_clean = []\n",
    "    for cell in line.split(','): \n",
    "        line_clean.append(clean_cell(cell))\n",
    "    data_clean.append(line_clean)\n",
    "    \n",
    "# check that the first three lists is correct\n",
    "assert data_clean[0] == ['PokedexNumber', 'Name', 'Type', 'Total', 'HP', 'Attack', 'Defense', 'SpecialAttack', 'SpecialDefense', 'Speed']\n",
    "assert data_clean[1] == [1.0, 'Bulbasaur', 'GrassPoison', 318.0, 45.0, 49.0, 49.0, 65.0, 65.0, 45.0]\n",
    "assert data_clean[2] == [2.0, 'Ivysaur', 'GrassPoison', 405.0, 60.0, 62.0, 63.0, 80.0, 80.0, 60.0]"
   ]
  },
  {
   "cell_type": "markdown",
   "metadata": {},
   "source": [
    "<img src=\"http://imgur.com/xDpSobf.png\" style=\"float: left; margin: 25px 15px 0px 0px; height: 25px\">\n",
    "\n",
    "### 8.2 Parse the raw pokedex with list comprehensions\n",
    "\n",
    "---\n",
    "\n",
    "Perform the same parsing as above, but **using only a single list comprehension** instead of for loops. You may have nested list comprehensions within the main list comprehension! The output should be exactly the same."
   ]
  },
  {
   "cell_type": "code",
   "execution_count": 15,
   "metadata": {},
   "outputs": [],
   "source": [
    "data_clean_bonus = [[clean_cell(cell) for cell in line.split(',')] for line in raw_pd.splitlines()]\n",
    "\n",
    "# check that the output is the same \n",
    "assert data_clean[0] == ['PokedexNumber', 'Name', 'Type', 'Total', 'HP', 'Attack', 'Defense', 'SpecialAttack', 'SpecialDefense', 'Speed']\n",
    "assert data_clean[1] == [1.0, 'Bulbasaur', 'GrassPoison', 318.0, 45.0, 49.0, 49.0, 65.0, 65.0, 45.0]\n",
    "assert data_clean[2] == [2.0, 'Ivysaur', 'GrassPoison', 405.0, 60.0, 62.0, 63.0, 80.0, 80.0, 60.0]"
   ]
  },
  {
   "cell_type": "markdown",
   "metadata": {},
   "source": [
    "<img src=\"http://imgur.com/l5NasQj.png\" style=\"float: left; margin: 25px 15px 0px 0px; height: 25px\">\n",
    "\n",
    "## 9. Write a function to generate the full pokedex\n",
    "\n",
    "---\n",
    "\n",
    "Write a function that recreates the pokedex you made before, but with the data read in from the full pokemon file. The `PokedexNumber` should be used as the `pokemon_id` key values for the dictionary of pokemon.\n",
    "\n",
    "Your function should:\n",
    "\n",
    "1. Take the parsed pokedex information you created above as an argument.\n",
    "2. Return a dictionary in the same format as your original pokedex you created before containing the information from the parsed full pokedex file.\n",
    "\n",
    "To test the function, print out the pokemon with id = 100."
   ]
  },
  {
   "cell_type": "code",
   "execution_count": 16,
   "metadata": {
    "scrolled": true
   },
   "outputs": [
    {
     "name": "stdout",
     "output_type": "stream",
     "text": [
      "{'Attack': 30.0,\n",
      " 'Defense': 50.0,\n",
      " 'HP': 40.0,\n",
      " 'Name': 'Voltorb',\n",
      " 'SpecialAttack': 55.0,\n",
      " 'SpecialDefense': 55.0,\n",
      " 'Speed': 100.0,\n",
      " 'Total': 330.0,\n",
      " 'Type': 'Electric'}\n"
     ]
    }
   ],
   "source": [
    "def create_pokedex(parsed_pokedex_info):\n",
    "    '''Return a dictionary in the same format as your original pokedex you created \n",
    "    before containing the information from the parsed full pokedex file.'''\n",
    "    \n",
    "    header = parsed_pokedex_info[0] # first row contains the header names\n",
    "    data = parsed_pokedex_info[1:] # second row onwards contains the data\n",
    "\n",
    "    stats_header = header[1:] # header for pokemon stats (exclude pokemon_id)\n",
    "    \n",
    "    pokedex = {}\n",
    "    for line in data:\n",
    "        pokemon_id = line[0] # first column contains pokemon_id (i.e. PokedexNumber)\n",
    "        pokemon_stats = line[1:] # data for pokemon stats (exclude pokemon_id)\n",
    "        \n",
    "        # package its statistics in the format: {'Attack': 344, 'Defense': 939}\n",
    "        stats_package = {}\n",
    "        for column_num, stats_value in enumerate(pokemon_stats):\n",
    "            stats_key = stats_header[column_num] # use header data as key\n",
    "            stats_package[stats_key] = stats_value # use line data as value\n",
    "            \n",
    "        # save the stats in the pokedex with pokemon_id as the key, {1: stats_package}\n",
    "        pokedex[pokemon_id] = stats_package\n",
    "    return pokedex\n",
    "\n",
    "# take the parsed pokedex information you created above as an argument.\n",
    "pokedex_data = create_pokedex(data_clean)\n",
    "\n",
    "# to test the function, print out the pokemon with id = 100.\n",
    "pprint(pokedex_data[100])"
   ]
  },
  {
   "cell_type": "markdown",
   "metadata": {},
   "source": [
    "<img src=\"http://i.imgur.com/GCAf1UX.png\" style=\"float: left; margin: 25px 15px 0px 0px; height: 25px\">\n",
    "\n",
    "## 10. Write a function to generate a \"filtered\" pokedex\n",
    "---\n",
    "Your function should:\n",
    "1. Take the parsed pokedex information you created above as an argument.\n",
    "1. Take a dictionary as a parameter with keys matching the features of the Pokedex, filtering by exact match for string type values, and/or filter continuous variables specified value that is greater than or equal to the dictionary key parameter.\n",
    "1. Return multiple elements from the Pokedex\n",
    "\n",
    "Example:\n",
    "\n",
    "```python\n",
    "\n",
    "# Only filter based on parameters passed\n",
    "filter_options = {\n",
    "    'Attack':   25,\n",
    "    'Defense':  30,\n",
    "    'Type':     'Electric'\n",
    "}\n",
    "\n",
    "# Return records with attack >= 24, defense >= 30, and type == \"Electric\"\n",
    "# Also anticipate that other paramters can also be passed such as \"SpecialAttack\", \"Speed\", etc.\n",
    "filtered_pokedex(pokedex_data, filter=filter_options)\n",
    "\n",
    "# Example output:\n",
    "# [{'Attack': 30.0,\n",
    "#  'Defense': 50.0,\n",
    "#  'HP': 40.0,\n",
    "#  'Name': 'Voltorb',\n",
    "#  'SpecialAttack': 55.0,\n",
    "#  'SpecialDefense': 55.0,\n",
    "#  'Speed': 100.0,\n",
    "#  'Total': 330.0,\n",
    "#  'Type': 'Electric'},\n",
    "#  {'Attack': 30.0,\n",
    "#  'Defense': 33.0,\n",
    "#  'HP': 32.0,\n",
    "#  'Name': 'Pikachu',\n",
    "#  'SpecialAttack': 55.0,\n",
    "#  'SpecialDefense': 55.0,\n",
    "#  'Speed': 100.0,\n",
    "#  'Total': 330.0,\n",
    "#  'Type': 'Electric'},\n",
    "#  ... etc\n",
    "#  ]\n",
    "\n",
    "```\n",
    "\n"
   ]
  },
  {
   "cell_type": "code",
   "execution_count": 17,
   "metadata": {},
   "outputs": [
    {
     "name": "stdout",
     "output_type": "stream",
     "text": [
      "[{'Attack': 55.0,\n",
      "  'Defense': 40.0,\n",
      "  'HP': 35.0,\n",
      "  'Name': 'Pikachu',\n",
      "  'SpecialAttack': 50.0,\n",
      "  'SpecialDefense': 50.0,\n",
      "  'Speed': 90.0,\n",
      "  'Total': 320.0,\n",
      "  'Type': 'Electric'},\n",
      " {'Attack': 90.0,\n",
      "  'Defense': 55.0,\n",
      "  'HP': 60.0,\n",
      "  'Name': 'Raichu',\n",
      "  'SpecialAttack': 90.0,\n",
      "  'SpecialDefense': 80.0,\n",
      "  'Speed': 110.0,\n",
      "  'Total': 485.0,\n",
      "  'Type': 'Electric'},\n",
      " {'Attack': 30.0,\n",
      "  'Defense': 50.0,\n",
      "  'HP': 40.0,\n",
      "  'Name': 'Voltorb',\n",
      "  'SpecialAttack': 55.0,\n",
      "  'SpecialDefense': 55.0,\n",
      "  'Speed': 100.0,\n",
      "  'Total': 330.0,\n",
      "  'Type': 'Electric'},\n",
      " {'Attack': 50.0,\n",
      "  'Defense': 70.0,\n",
      "  'HP': 60.0,\n",
      "  'Name': 'Electrode',\n",
      "  'SpecialAttack': 80.0,\n",
      "  'SpecialDefense': 80.0,\n",
      "  'Speed': 140.0,\n",
      "  'Total': 480.0,\n",
      "  'Type': 'Electric'},\n",
      " {'Attack': 83.0,\n",
      "  'Defense': 57.0,\n",
      "  'HP': 65.0,\n",
      "  'Name': 'Electabuzz',\n",
      "  'SpecialAttack': 95.0,\n",
      "  'SpecialDefense': 85.0,\n",
      "  'Speed': 105.0,\n",
      "  'Total': 490.0,\n",
      "  'Type': 'Electric'},\n",
      " {'Attack': 65.0,\n",
      "  'Defense': 60.0,\n",
      "  'HP': 65.0,\n",
      "  'Name': 'Jolteon',\n",
      "  'SpecialAttack': 110.0,\n",
      "  'SpecialDefense': 95.0,\n",
      "  'Speed': 130.0,\n",
      "  'Total': 525.0,\n",
      "  'Type': 'Electric'},\n",
      " {'Attack': 40.0,\n",
      "  'Defense': 40.0,\n",
      "  'HP': 55.0,\n",
      "  'Name': 'Mareep',\n",
      "  'SpecialAttack': 65.0,\n",
      "  'SpecialDefense': 45.0,\n",
      "  'Speed': 35.0,\n",
      "  'Total': 280.0,\n",
      "  'Type': 'Electric'},\n",
      " {'Attack': 55.0,\n",
      "  'Defense': 55.0,\n",
      "  'HP': 70.0,\n",
      "  'Name': 'Flaaffy',\n",
      "  'SpecialAttack': 80.0,\n",
      "  'SpecialDefense': 60.0,\n",
      "  'Speed': 45.0,\n",
      "  'Total': 365.0,\n",
      "  'Type': 'Electric'},\n",
      " {'Attack': 63.0,\n",
      "  'Defense': 37.0,\n",
      "  'HP': 45.0,\n",
      "  'Name': 'Elekid',\n",
      "  'SpecialAttack': 65.0,\n",
      "  'SpecialDefense': 55.0,\n",
      "  'Speed': 95.0,\n",
      "  'Total': 360.0,\n",
      "  'Type': 'Electric'},\n",
      " {'Attack': 85.0,\n",
      "  'Defense': 75.0,\n",
      "  'HP': 90.0,\n",
      "  'Name': 'Raikou',\n",
      "  'SpecialAttack': 115.0,\n",
      "  'SpecialDefense': 100.0,\n",
      "  'Speed': 115.0,\n",
      "  'Total': 580.0,\n",
      "  'Type': 'Electric'},\n",
      " {'Attack': 45.0,\n",
      "  'Defense': 40.0,\n",
      "  'HP': 40.0,\n",
      "  'Name': 'Electrike',\n",
      "  'SpecialAttack': 65.0,\n",
      "  'SpecialDefense': 40.0,\n",
      "  'Speed': 65.0,\n",
      "  'Total': 295.0,\n",
      "  'Type': 'Electric'},\n",
      " {'Attack': 75.0,\n",
      "  'Defense': 80.0,\n",
      "  'HP': 70.0,\n",
      "  'Name': 'ManectricMega Manectric',\n",
      "  'SpecialAttack': 135.0,\n",
      "  'SpecialDefense': 80.0,\n",
      "  'Speed': 135.0,\n",
      "  'Total': 575.0,\n",
      "  'Type': 'Electric'},\n",
      " {'Attack': 50.0,\n",
      "  'Defense': 40.0,\n",
      "  'HP': 60.0,\n",
      "  'Name': 'Plusle',\n",
      "  'SpecialAttack': 85.0,\n",
      "  'SpecialDefense': 75.0,\n",
      "  'Speed': 95.0,\n",
      "  'Total': 405.0,\n",
      "  'Type': 'Electric'},\n",
      " {'Attack': 40.0,\n",
      "  'Defense': 50.0,\n",
      "  'HP': 60.0,\n",
      "  'Name': 'Minun',\n",
      "  'SpecialAttack': 75.0,\n",
      "  'SpecialDefense': 85.0,\n",
      "  'Speed': 95.0,\n",
      "  'Total': 405.0,\n",
      "  'Type': 'Electric'},\n",
      " {'Attack': 65.0,\n",
      "  'Defense': 34.0,\n",
      "  'HP': 45.0,\n",
      "  'Name': 'Shinx',\n",
      "  'SpecialAttack': 40.0,\n",
      "  'SpecialDefense': 34.0,\n",
      "  'Speed': 45.0,\n",
      "  'Total': 263.0,\n",
      "  'Type': 'Electric'},\n",
      " {'Attack': 85.0,\n",
      "  'Defense': 49.0,\n",
      "  'HP': 60.0,\n",
      "  'Name': 'Luxio',\n",
      "  'SpecialAttack': 60.0,\n",
      "  'SpecialDefense': 49.0,\n",
      "  'Speed': 60.0,\n",
      "  'Total': 363.0,\n",
      "  'Type': 'Electric'},\n",
      " {'Attack': 120.0,\n",
      "  'Defense': 79.0,\n",
      "  'HP': 80.0,\n",
      "  'Name': 'Luxray',\n",
      "  'SpecialAttack': 95.0,\n",
      "  'SpecialDefense': 79.0,\n",
      "  'Speed': 70.0,\n",
      "  'Total': 523.0,\n",
      "  'Type': 'Electric'},\n",
      " {'Attack': 45.0,\n",
      "  'Defense': 70.0,\n",
      "  'HP': 60.0,\n",
      "  'Name': 'Pachirisu',\n",
      "  'SpecialAttack': 45.0,\n",
      "  'SpecialDefense': 90.0,\n",
      "  'Speed': 95.0,\n",
      "  'Total': 405.0,\n",
      "  'Type': 'Electric'},\n",
      " {'Attack': 123.0,\n",
      "  'Defense': 67.0,\n",
      "  'HP': 75.0,\n",
      "  'Name': 'Electivire',\n",
      "  'SpecialAttack': 95.0,\n",
      "  'SpecialDefense': 85.0,\n",
      "  'Speed': 95.0,\n",
      "  'Total': 540.0,\n",
      "  'Type': 'Electric'},\n",
      " {'Attack': 60.0,\n",
      "  'Defense': 32.0,\n",
      "  'HP': 45.0,\n",
      "  'Name': 'Blitzle',\n",
      "  'SpecialAttack': 50.0,\n",
      "  'SpecialDefense': 32.0,\n",
      "  'Speed': 76.0,\n",
      "  'Total': 295.0,\n",
      "  'Type': 'Electric'},\n",
      " {'Attack': 100.0,\n",
      "  'Defense': 63.0,\n",
      "  'HP': 75.0,\n",
      "  'Name': 'Zebstrika',\n",
      "  'SpecialAttack': 80.0,\n",
      "  'SpecialDefense': 63.0,\n",
      "  'Speed': 116.0,\n",
      "  'Total': 497.0,\n",
      "  'Type': 'Electric'},\n",
      " {'Attack': 55.0,\n",
      "  'Defense': 40.0,\n",
      "  'HP': 35.0,\n",
      "  'Name': 'Tynamo',\n",
      "  'SpecialAttack': 45.0,\n",
      "  'SpecialDefense': 40.0,\n",
      "  'Speed': 60.0,\n",
      "  'Total': 275.0,\n",
      "  'Type': 'Electric'},\n",
      " {'Attack': 85.0,\n",
      "  'Defense': 70.0,\n",
      "  'HP': 65.0,\n",
      "  'Name': 'Eelektrik',\n",
      "  'SpecialAttack': 75.0,\n",
      "  'SpecialDefense': 70.0,\n",
      "  'Speed': 40.0,\n",
      "  'Total': 405.0,\n",
      "  'Type': 'Electric'},\n",
      " {'Attack': 115.0,\n",
      "  'Defense': 80.0,\n",
      "  'HP': 85.0,\n",
      "  'Name': 'Eelektross',\n",
      "  'SpecialAttack': 105.0,\n",
      "  'SpecialDefense': 80.0,\n",
      "  'Speed': 50.0,\n",
      "  'Total': 515.0,\n",
      "  'Type': 'Electric'}]\n"
     ]
    },
    {
     "ename": "NameError",
     "evalue": "name 'test_options' is not defined",
     "output_type": "error",
     "traceback": [
      "\u001b[1;31m---------------------------------------------------------------------------\u001b[0m",
      "\u001b[1;31mNameError\u001b[0m                                 Traceback (most recent call last)",
      "\u001b[1;32m<ipython-input-17-5e58cdbc04d9>\u001b[0m in \u001b[0;36m<module>\u001b[1;34m()\u001b[0m\n\u001b[0;32m     42\u001b[0m }\n\u001b[0;32m     43\u001b[0m \u001b[1;33m\u001b[0m\u001b[0m\n\u001b[1;32m---> 44\u001b[1;33m \u001b[1;32massert\u001b[0m \u001b[0mfiltered_pokedex\u001b[0m\u001b[1;33m(\u001b[0m\u001b[0mpokedex_data\u001b[0m\u001b[1;33m,\u001b[0m \u001b[0mfilter\u001b[0m\u001b[1;33m=\u001b[0m\u001b[0mtest_options\u001b[0m\u001b[1;33m)\u001b[0m \u001b[1;33m==\u001b[0m \u001b[1;33m[\u001b[0m\u001b[0massertion_options\u001b[0m\u001b[1;33m]\u001b[0m\u001b[1;33m\u001b[0m\u001b[0m\n\u001b[0m",
      "\u001b[1;31mNameError\u001b[0m: name 'test_options' is not defined"
     ]
    }
   ],
   "source": [
    "filter_options = {\n",
    "    'Attack': 25,\n",
    "    'Defense': 30,\n",
    "    'Type': 'Electric'\n",
    "}\n",
    "\n",
    "def filtered_pokedex(pokedex_data, filter):\n",
    "    ''' Function will return pokemons that meet ALL criterias '''\n",
    "    pokedex_data_filtered = []\n",
    "    for pokemon_id in pokedex_data:\n",
    "        pokemon_stats = pokedex_data[pokemon_id]\n",
    "        \n",
    "        fits_critera = True\n",
    "        for filter_key in filter:\n",
    "            filter_value = filter[filter_key]\n",
    "            \n",
    "            # for filter of type string, filter by exact match\n",
    "            if type(filter_value) == str and pokemon_stats[filter_key] != filter_value:\n",
    "                fits_critera = False\n",
    "            \n",
    "            # for filters of non-string types, filter by greater or equals to\n",
    "            elif pokemon_stats[filter_key] < filter_value:\n",
    "                fits_critera = False\n",
    "            \n",
    "        if fits_critera:\n",
    "            pokedex_data_filtered.append(pokemon_stats)\n",
    "    return pokedex_data_filtered\n",
    "\n",
    "pokedex_subset = filtered_pokedex(pokedex_data, filter=filter_options)\n",
    "pprint(pokedex_subset)\n",
    "\n",
    "assertion_options = {\n",
    "  'Attack': 63.0,\n",
    "  'Defense': 37.0,\n",
    "  'HP': 45.0,\n",
    "  'Name': 'Elekid',\n",
    "  'SpecialAttack': 65.0,\n",
    "  'SpecialDefense': 55.0,\n",
    "  'Speed': 95.0,\n",
    "  'Total': 360.0,\n",
    "  'Type': 'Electric'\n",
    "}\n",
    "\n",
    "assert filtered_pokedex(pokedex_data, filter=test_options) == [assertion_options]"
   ]
  },
  {
   "cell_type": "markdown",
   "metadata": {
    "collapsed": true
   },
   "source": [
    "\n",
    "## 9. Descriptive statistics on the prototype pokedex\n",
    "\n",
    "<img src=\"http://imgur.com/l5NasQj.png\" style=\"float: left; margin: 25px 15px 0px 0px; height: 25px\">\n",
    "### 9.1\n",
    "\n",
    "What is the population mean and standard deviation of the \"Total\" attribute for all characters in the Pokedex?\n",
    "\n"
   ]
  },
  {
   "cell_type": "code",
   "execution_count": 18,
   "metadata": {},
   "outputs": [
    {
     "name": "stdout",
     "output_type": "stream",
     "text": [
      "population mean: 424\n",
      "population standard deviation: 118\n"
     ]
    }
   ],
   "source": [
    "totals = [pokedex_data[pokemon_id]['Total'] for pokemon_id in pokedex_data]\n",
    "\n",
    "totals_mean = statistics.mean(totals)\n",
    "totals_sd = statistics.stdev(totals)\n",
    "\n",
    "print('population mean:', int(totals_mean))\n",
    "print('population standard deviation:', int(totals_sd))"
   ]
  },
  {
   "cell_type": "markdown",
   "metadata": {},
   "source": [
    "<img src=\"http://imgur.com/l5NasQj.png\" style=\"float: left; margin: 25px 15px 0px 0px; height: 25px\">\n",
    "### 9.2\n",
    "\n",
    "The game is no fun if the characters are wildly unbalanced! Are any characters \"overpowered\", which we'll define as having a \"Total\" more than three standard deviations from the population mean?"
   ]
  },
  {
   "cell_type": "code",
   "execution_count": 19,
   "metadata": {},
   "outputs": [
    {
     "name": "stdout",
     "output_type": "stream",
     "text": [
      "[]\n",
      "there are no characters more than 3 standard deviations from the population mean.\n"
     ]
    }
   ],
   "source": [
    "filter_options = {\n",
    "    'Total': totals_mean + 3*totals_sd\n",
    "}\n",
    "\n",
    "unbalanced_characters = filtered_pokedex(pokedex_data, filter=filter_options)\n",
    "print(unbalanced_characters)\n",
    "print('there are no characters more than 3 standard deviations from the population mean.')"
   ]
  },
  {
   "cell_type": "markdown",
   "metadata": {},
   "source": [
    "<img src=\"http://imgur.com/xDpSobf.png\" style=\"float: left; margin: 25px 15px 0px 0px; height: 25px\">\n",
    "\n",
    "## 10. Calibrate the frequency of Pokemon\n",
    "\n",
    "The design team wants you to make the powerful Pokemon rare, and the weaklings more common. How would you set the probability $p_i$ of finding Pokemon *i* each time a player visits a gym?\n",
    "\n",
    "Write a function that takes in a Pokedex number and returns a value $p_i$ for that character.\n",
    "\n",
    "Hint: there are many ways you could do this. What do _you_ think makes sense? Start with simplifying assumptions: for example, you could assume that the probabilities of encountering any two Pokemon on one visit to a gym are independent of each other."
   ]
  },
  {
   "cell_type": "code",
   "execution_count": 20,
   "metadata": {},
   "outputs": [
    {
     "data": {
      "text/plain": [
       "10"
      ]
     },
     "execution_count": 20,
     "metadata": {},
     "output_type": "execute_result"
    }
   ],
   "source": [
    "def cal_pokemon_probability_simple(pokedex_number):\n",
    "    # assumptions\n",
    "    # the probability of finding a pokemon should be\n",
    "    # max 20% - it feels like spam to see it too many times\n",
    "    # min 0% - doesnt make sense to have a negative number\n",
    "    \n",
    "    # get stats based on pokedex_number \n",
    "    current_total = pokedex_data[pokedex_number]['Total']\n",
    "    if current_total>totals_mean+totals_sd: # stats is very high\n",
    "        return 1\n",
    "    elif current_total<totals_mean-totals_sd: # stats is very low\n",
    "        return 20\n",
    "    else: # stats is within 1 SD\n",
    "        return 10\n",
    "\n",
    "cal_pokemon_probability_simple(4.0)"
   ]
  },
  {
   "cell_type": "markdown",
   "metadata": {},
   "source": [
    "> One simple way we can do to determine the spawn rate is:"
   ]
  },
  {
   "cell_type": "code",
   "execution_count": 21,
   "metadata": {},
   "outputs": [
    {
     "data": {
      "image/png": "[encoded data removed]",
      "text/plain": [
       "<matplotlib.figure.Figure at 0x2175f98aac8>"
      ]
     },
     "metadata": {},
     "output_type": "display_data"
    }
   ],
   "source": [
    "x1 = [pokedex_data[i]['Total'] for i in pokedex_data]\n",
    "y1 = [cal_pokemon_probability_simple(i) for i in pokedex_data]\n",
    "\n",
    "plt.title('cal_pokemon_probability_simple')\n",
    "plt.xlabel('Pokemon Total Stats')\n",
    "plt.ylabel('Pokemon Spawn Rate (%)')\n",
    "plt.scatter(x1, y1, label='Game Logic (Initial)')\n",
    "plt.legend()\n",
    "plt.show()"
   ]
  },
  {
   "cell_type": "markdown",
   "metadata": {},
   "source": [
    "> Another way we can do to determine the spawn rate is:"
   ]
  },
  {
   "cell_type": "code",
   "execution_count": 22,
   "metadata": {},
   "outputs": [
    {
     "data": {
      "image/png": "[encoded data removed]",
      "text/plain": [
       "<matplotlib.figure.Figure at 0x21761af24a8>"
      ]
     },
     "metadata": {},
     "output_type": "display_data"
    }
   ],
   "source": [
    "def cal_pokemon_probability_linear(pokedex_number):\n",
    "    # when x = 180, y = 0.2 & when x = 780, y = 0.01\n",
    "    # solve for y = mx + C\n",
    "    m = 0.21/600\n",
    "    c = 0.2+180*m\n",
    "    \n",
    "    x = pokedex_data[pokedex_number]['Total']\n",
    "    return (-m*x+c)*100\n",
    "\n",
    "x2 = [pokedex_data[i]['Total'] for i in pokedex_data]\n",
    "y2 = [cal_pokemon_probability_linear(i) for i in pokedex_data]\n",
    "\n",
    "plt.title('cal_pokemon_probability_linear')\n",
    "plt.xlabel('Pokemon Total Stats')\n",
    "plt.ylabel('Pokemon Spawn Rate (%)')\n",
    "plt.scatter(x2, y2, label='Game Logic (Linear)')\n",
    "plt.legend()\n",
    "plt.show()"
   ]
  },
  {
   "cell_type": "markdown",
   "metadata": {},
   "source": [
    "> To improve the algorithm of determining the spawn rate, we compare it with external data from pokemon GO\n",
    "> https://didyouknowfacts.com/pokemon-go-spawn-rates/"
   ]
  },
  {
   "cell_type": "code",
   "execution_count": 23,
   "metadata": {},
   "outputs": [
    {
     "data": {
      "image/png": "[encoded data removed]",
      "text/plain": [
       "<matplotlib.figure.Figure at 0x21761bd2c50>"
      ]
     },
     "metadata": {},
     "output_type": "display_data"
    }
   ],
   "source": [
    "external_data = {\n",
    "    'Bulbasaur':0.69,\n",
    "    'Ivysaur':0.042,\n",
    "    'Venasaur':0.017,\n",
    "    'Charmander':0.253,\n",
    "    'Charmeleon':0.012,\n",
    "    'Charizard':0.0031,\n",
    "    'Squirtle':0.58,\n",
    "    'Wartortle':0.034,\n",
    "    'Blastoise':0.0067,\n",
    "    'Caterpie':3.032,\n",
    "    'Metapod':0.187,\n",
    "    'Butterfree':0.022,\n",
    "    'Weedle':7.12,\n",
    "    'Kakuna':0.44,\n",
    "    'Beedrill':0.051,\n",
    "    'Pidgey':15.98,\n",
    "    'Pidgeotto':1.02,\n",
    "    'Pidgeot':0.13,\n",
    "    'Rattata':13.05,\n",
    "    'Raticate':0.41,\n",
    "    'Spearow':4.73,\n",
    "    'Fearow':0.15,\n",
    "    'Ekans':2.27,\n",
    "    'Arbok':0.072,\n",
    "    'Pikachu':0.21,\n",
    "    'Raichu':0.0076,\n",
    "    'Sandshrew':1.11,\n",
    "    'Sandslash':0.037,\n",
    "    'Nidorina':0.088,\n",
    "    'Nidoqueen':0.012,\n",
    "    'Nidorino':0.083,\n",
    "    'Nidoking':0.017,\n",
    "    'Clefairy':0.92,\n",
    "    'Clefable':0.012,\n",
    "    'Vulpix':0.22,\n",
    "    'Ninetails':0.0077,\n",
    "    'Jigglypuff':0.39,\n",
    "    'Wigglytuff':0.018,\n",
    "    'Zubat':6.52,\n",
    "    'Golbat':0.42,\n",
    "    'Oddish':1.02,\n",
    "    'Gloom':0.064,\n",
    "    'Vileplume':0.0097,\n",
    "    'Paras':2.36,\n",
    "    'Parasect':0.074,\n",
    "    'Venonat':2.28,\n",
    "    'Venomoth':0.072,\n",
    "    'Diglett':0.40,\n",
    "    'Dugtrio':0.014,\n",
    "    'Meowth':0.86,\n",
    "    'Persian':0.022,\n",
    "    'Psyduck':2.54,\n",
    "    'Golduck':0.087,\n",
    "    'Mankey':0.92,\n",
    "    'Primeape':0.031,\n",
    "    'Growlithe':0.92,\n",
    "    'Arcanine':0.017,\n",
    "    'Poliwag':2.19,\n",
    "    'Poliwhirl':0.13,\n",
    "    'Poliwrath':0.011,\n",
    "    'Abra':0.42,\n",
    "    'Kadabra':0.027,\n",
    "    'Alakazam':0.0073,\n",
    "    'Machop':0.49,\n",
    "    'Machoke':0.034,\n",
    "    'Machamp':0.0068,\n",
    "    'Bellsprout':1.15,\n",
    "    'Weepinbell':0.072,\n",
    "    'Victreebell':0.0059,\n",
    "    'Tentacool':0.81,\n",
    "    'Tentacruel':0.082,\n",
    "    'Geodude':1.19,\n",
    "    'Graveler':0.071,\n",
    "    'Golem':0.0047,\n",
    "    'Ponyta':0.51,\n",
    "    'Rapidash':0.011,\n",
    "    'Slowpoke':1.05,\n",
    "    'Slowbro':0.036,\n",
    "    'Magnemite':0.71,\n",
    "    'Magneton':0.023,\n",
    "    'Doduo':0.52,\n",
    "    'Dodrio':0.22,\n",
    "    'Seel':0.28,\n",
    "    'Dewgong':0.013,\n",
    "    'Grimer':0.052,\n",
    "    'Muk':0.0031,\n",
    "    'Shellder':0.52,\n",
    "    'Cloyster':0.015,\n",
    "    'Gastly':0.79,\n",
    "    'Haunter':0.052,\n",
    "    'Gengar':0.0067,\n",
    "    'Onix':0.10,\n",
    "    'Drowzee':3.21,\n",
    "    'Hypno':0.10,\n",
    "    'Krabby':2.12,\n",
    "    'Kingler':0.062,\n",
    "    'Voltorb':0.65,\n",
    "    'Electrode':0.02,\n",
    "    'Exeggcute':0.78,\n",
    "    'Exeggutor':0.014,\n",
    "    'Cubone':0.61,\n",
    "    'Marowak':0.02,\n",
    "    'Hitmonlee':0.02,\n",
    "    'Hitmonchan':0.022,\n",
    "    'Lickitung':0.011,\n",
    "    'Koffing':0.20,\n",
    "    'Weezing':0.016,\n",
    "    'Rhyhorn':0.63,\n",
    "    'Rhydon':0.022,\n",
    "    'Chansey':0.013,\n",
    "    'Tangela':0.228,\n",
    "    'Kangaskhan':0.0086,\n",
    "    'Horsea':1.13,\n",
    "    'Seadra':0.034,\n",
    "    'Goldeen':2.18,\n",
    "    'Seaking':0.08,\n",
    "    'Staryu':1.95,\n",
    "    'Starmie':0.034,\n",
    "    'Scyther':0.14,\n",
    "    'Jynx':0.35,\n",
    "    'Electabuzz':0.074,\n",
    "    'Magmar':0.10,\n",
    "    'Pinsir':0.99,\n",
    "    'Tauros':0.12,\n",
    "    'Magikarp':4.78,\n",
    "    'Gyrados':0.0032,\n",
    "    'Lapras':0.006,\n",
    "    'Ditto':0,\n",
    "    'Eevee':2.75,\n",
    "    'Vaporean':0.014,\n",
    "    'Jolteon':0.012,\n",
    "    'Flareon':0.017,\n",
    "    'Porygon':0.012,\n",
    "    'Omanyte':0.14,\n",
    "    'Omastar':0.0061,\n",
    "    'Kabuto':0.10,\n",
    "    'Kabutops':0.003,\n",
    "    'Aerodactyl':0.018,\n",
    "    'Snorlax':0.016,\n",
    "    'Dratini':0.30,\n",
    "    'Dragonair':0.02,\n",
    "    'Dragonite':0.0011,\n",
    "}\n",
    "\n",
    "x_external = []\n",
    "y_external = []\n",
    "for pokemon_id in pokedex_data:\n",
    "    pokemon_name = pokedex_data[pokemon_id]['Name']\n",
    "    pokemon_total = pokedex_data[pokemon_id]['Total']\n",
    "    if pokemon_name in external_data:\n",
    "        pokemon_spawn_rate = external_data[pokemon_name]\n",
    "        x_external.append(pokemon_total)\n",
    "        y_external.append(pokemon_spawn_rate)\n",
    "        \n",
    "plt.scatter(x_external, y_external)\n",
    "plt.title('External data from Pokemon GO')\n",
    "plt.xlabel('Pokemon Total Stats')\n",
    "plt.ylabel('Pokemon Spawn Rate (%)')\n",
    "plt.show()"
   ]
  },
  {
   "cell_type": "code",
   "execution_count": 24,
   "metadata": {},
   "outputs": [
    {
     "data": {
      "text/plain": [
       "<matplotlib.legend.Legend at 0x21762c679e8>"
      ]
     },
     "execution_count": 24,
     "metadata": {},
     "output_type": "execute_result"
    },
    {
     "data": {
      "image/png": "[encoded data removed]",
      "text/plain": [
       "<matplotlib.figure.Figure at 0x21761b12710>"
      ]
     },
     "metadata": {},
     "output_type": "display_data"
    }
   ],
   "source": [
    "# comparison\n",
    "plt.title('Comparison of game logic vs. external')\n",
    "plt.xlabel('Pokemon Total Stats')\n",
    "plt.ylabel('Pokemon Spawn Rate (%)')\n",
    "plt.scatter(x2, y2, label='Game Logic (Linear)')\n",
    "plt.scatter(x_external,y_external, label='External')\n",
    "plt.legend()"
   ]
  },
  {
   "cell_type": "markdown",
   "metadata": {},
   "source": [
    "From the graph above, we can see that it is not really a linear relation between power and spawn rate. It is more of a logarithmic scale relationship."
   ]
  },
  {
   "cell_type": "code",
   "execution_count": 25,
   "metadata": {},
   "outputs": [
    {
     "data": {
      "image/png": "[encoded data removed]",
      "text/plain": [
       "<matplotlib.figure.Figure at 0x21761b201d0>"
      ]
     },
     "metadata": {},
     "output_type": "display_data"
    }
   ],
   "source": [
    "def cal_pokemon_probability_log(pokedex_number):\n",
    "    m= -0.01897537729\n",
    "    c = 7.12/(math.e**(m*195))\n",
    "    \n",
    "    x = pokedex_data[pokedex_number]['Total']\n",
    "    return (c*math.e**(m*x))\n",
    "\n",
    "x3 = [pokedex_data[i]['Total'] for i in pokedex_data]\n",
    "y3 = [cal_pokemon_probability_log(i) for i in pokedex_data]\n",
    "plt.title('Comparison of game logic vs. external')\n",
    "plt.scatter(x_external, y_external, label='External')\n",
    "plt.scatter(x3, y3, label='Game Logic (Log)')\n",
    "plt.xlabel('Pokemon Total Stats')\n",
    "plt.ylabel('Pokemon Spawn Rate (%)')\n",
    "plt.legend()\n",
    "plt.show()"
   ]
  },
  {
   "cell_type": "markdown",
   "metadata": {},
   "source": [
    "> From here, we recommend using the `cal_pokemon_probability_log` function for calculating the probability of finding a specific pokemon."
   ]
  },
  {
   "cell_type": "code",
   "execution_count": null,
   "metadata": {},
   "outputs": [],
   "source": []
  }
 ],
 "metadata": {
  "anaconda-cloud": {},
  "kernelspec": {
   "display_name": "Python 3",
   "language": "python",
   "name": "python3"
  },
  "language_info": {
   "codemirror_mode": {
    "name": "ipython",
    "version": 3
   },
   "file_extension": ".py",
   "mimetype": "text/x-python",
   "name": "python",
   "nbconvert_exporter": "python",
   "pygments_lexer": "ipython3",
   "version": "3.5.2"
  }
 },
 "nbformat": 4,
 "nbformat_minor": 1
}
